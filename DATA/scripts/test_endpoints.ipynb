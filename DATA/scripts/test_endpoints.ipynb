{
 "cells": [
  {
   "cell_type": "code",
   "execution_count": 36,
   "metadata": {},
   "outputs": [
    {
     "name": "stdout",
     "output_type": "stream",
     "text": [
      "6\n"
     ]
    }
   ],
   "source": [
    "import requests\n",
    "import pandas as pd\n",
    "import json\n",
    "ip = \"http://127.0.0.1:8080\"\n",
    "requests_urls = {\n",
    "    'upload_data': f\"{ip}/ml/upload-book-vector\",\n",
    "    'update_data': f\"{ip}/ml/update-book-vector\",\n",
    "}\n",
    "\n",
    "data_frame = (pd.read_excel(r'/home/mitul/Projects/NBIC/DATA/nbic_raw_data.xlsx')).fillna('')\n",
    "data_dict = data_frame.loc[0:5].to_dict('records')\n",
    "print(len(data_dict))"
   ]
  },
  {
   "cell_type": "code",
   "execution_count": 37,
   "metadata": {},
   "outputs": [
    {
     "name": "stdout",
     "output_type": "stream",
     "text": [
      "http://127.0.0.1:8080/ml/upload-book-vector\n",
      "{\"message\":\"vector data inserted successfully\"}\n",
      "http://127.0.0.1:8080/ml/upload-book-vector\n",
      "{\"message\":\"vector data inserted successfully\"}\n",
      "http://127.0.0.1:8080/ml/upload-book-vector\n",
      "{\"message\":\"vector data inserted successfully\"}\n",
      "http://127.0.0.1:8080/ml/upload-book-vector\n",
      "{\"message\":\"vector data inserted successfully\"}\n",
      "http://127.0.0.1:8080/ml/upload-book-vector\n",
      "{\"message\":\"vector data inserted successfully\"}\n",
      "http://127.0.0.1:8080/ml/upload-book-vector\n",
      "{\"message\":\"vector data inserted successfully\"}\n"
     ]
    }
   ],
   "source": [
    "for data_lump in data_dict:\n",
    "    print(requests_urls['upload_data'])\n",
    "    payload = data_lump\n",
    "    response = requests.post(url=requests_urls['upload_data'], json=payload)\n",
    "    print(response.text)"
   ]
  },
  {
   "cell_type": "code",
   "execution_count": null,
   "metadata": {},
   "outputs": [],
   "source": []
  }
 ],
 "metadata": {
  "kernelspec": {
   "display_name": "j-ml-blogsgpt",
   "language": "python",
   "name": "j-ml-blogsgpt"
  },
  "language_info": {
   "codemirror_mode": {
    "name": "ipython",
    "version": 3
   },
   "file_extension": ".py",
   "mimetype": "text/x-python",
   "name": "python",
   "nbconvert_exporter": "python",
   "pygments_lexer": "ipython3",
   "version": "3.10.4"
  },
  "orig_nbformat": 4
 },
 "nbformat": 4,
 "nbformat_minor": 2
}
